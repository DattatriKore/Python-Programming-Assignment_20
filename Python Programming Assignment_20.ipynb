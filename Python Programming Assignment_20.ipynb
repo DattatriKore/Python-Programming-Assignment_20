{
 "cells": [
  {
   "cell_type": "code",
   "execution_count": 1,
   "id": "b5ff2a63",
   "metadata": {},
   "outputs": [],
   "source": [
    "'''\n",
    "Q.[1] : Create a function that takes a list of strings and integers, and filters out the list so that it returns a list\n",
    "\n",
    "        of integers only.\n",
    "        \n",
    "        Examples\n",
    "        \n",
    "        filter_list([1, 2, 3, \"a\", \"b\", 4]) ➞ [1, 2, 3, 4]\n",
    "        \n",
    "        filter_list([\"A\", 0, \"Edabit\", 1729, \"Python\", \"1729\"]) ➞ [0, 1729]\n",
    "        \n",
    "        filter_list([\"Nothing\", \"here\"]) ➞ []\n",
    "\n",
    "'''\n",
    "\n",
    "def filter_list(lst):\n",
    "    int_list = []\n",
    "    for i in lst:\n",
    "        if type(i) == int:\n",
    "            int_list.append(i)\n",
    "    return int_list"
   ]
  },
  {
   "cell_type": "code",
   "execution_count": 2,
   "id": "be93506f",
   "metadata": {},
   "outputs": [
    {
     "data": {
      "text/plain": [
       "[1, 2, 3, 4]"
      ]
     },
     "execution_count": 2,
     "metadata": {},
     "output_type": "execute_result"
    }
   ],
   "source": [
    "filter_list([1, 2, 3, \"a\", \"b\", 4])"
   ]
  },
  {
   "cell_type": "code",
   "execution_count": 3,
   "id": "35ad269c",
   "metadata": {},
   "outputs": [
    {
     "data": {
      "text/plain": [
       "[0, 1729]"
      ]
     },
     "execution_count": 3,
     "metadata": {},
     "output_type": "execute_result"
    }
   ],
   "source": [
    "filter_list([\"A\", 0, \"Edabit\", 1729, \"Python\", \"1729\"])"
   ]
  },
  {
   "cell_type": "code",
   "execution_count": 4,
   "id": "44187329",
   "metadata": {},
   "outputs": [
    {
     "data": {
      "text/plain": [
       "[]"
      ]
     },
     "execution_count": 4,
     "metadata": {},
     "output_type": "execute_result"
    }
   ],
   "source": [
    "filter_list([\"Nothing\", \"here\"])"
   ]
  },
  {
   "cell_type": "code",
   "execution_count": 5,
   "id": "8043eeee",
   "metadata": {},
   "outputs": [],
   "source": [
    "'''\n",
    "Q.[2] : Given a list of numbers, create a function which returns the list but with each element's index in the list added\n",
    "\n",
    "        to itself. This means you add 0 to the number at index 0, add 1 to the number at index 1, etc...\n",
    "        \n",
    "        Examples\n",
    "        \n",
    "        add_indexes([0, 0, 0, 0, 0]) ➞ [0, 1, 2, 3, 4]\n",
    "        \n",
    "        add_indexes([1, 2, 3, 4, 5]) ➞ [1, 3, 5, 7, 9]\n",
    "        \n",
    "        add_indexes([5, 4, 3, 2, 1]) ➞ [5, 5, 5, 5, 5]\n",
    "\n",
    "'''\n",
    "\n",
    "def add_indexes(lst):\n",
    "    ind = 0\n",
    "    index = []\n",
    "    for i in lst:\n",
    "        index.append(lst.index(i,ind) + i)\n",
    "        ind+=1\n",
    "    return index"
   ]
  },
  {
   "cell_type": "code",
   "execution_count": 6,
   "id": "f8c433dc",
   "metadata": {},
   "outputs": [
    {
     "data": {
      "text/plain": [
       "[0, 1, 2, 3, 4]"
      ]
     },
     "execution_count": 6,
     "metadata": {},
     "output_type": "execute_result"
    }
   ],
   "source": [
    "add_indexes([0, 0, 0, 0, 0])"
   ]
  },
  {
   "cell_type": "code",
   "execution_count": 7,
   "id": "03d422a5",
   "metadata": {},
   "outputs": [
    {
     "data": {
      "text/plain": [
       "[1, 3, 5, 7, 9]"
      ]
     },
     "execution_count": 7,
     "metadata": {},
     "output_type": "execute_result"
    }
   ],
   "source": [
    "add_indexes([1, 2, 3, 4, 5])"
   ]
  },
  {
   "cell_type": "code",
   "execution_count": 8,
   "id": "023978a0",
   "metadata": {},
   "outputs": [
    {
     "data": {
      "text/plain": [
       "[5, 5, 5, 5, 5]"
      ]
     },
     "execution_count": 8,
     "metadata": {},
     "output_type": "execute_result"
    }
   ],
   "source": [
    "add_indexes([5, 4, 3, 2, 1])"
   ]
  },
  {
   "cell_type": "code",
   "execution_count": 9,
   "id": "cfe3e53c",
   "metadata": {},
   "outputs": [
    {
     "name": "stdout",
     "output_type": "stream",
     "text": [
      "Volume Of Cone :  314\n"
     ]
    }
   ],
   "source": [
    "'''\n",
    "Q.[3] : Create a function that takes the height and radius of a cone as arguments and returns the volume of the cone\n",
    "\n",
    "        rounded to the nearest hundredth. See the resources tab for the formula.\n",
    "\n",
    "        Examples\n",
    "        \n",
    "        cone_volume(3, 2) ➞ 12.57\n",
    "\n",
    "        cone_volume(15, 6) ➞ 565.49\n",
    "        \n",
    "        cone_volume(18, 0) ➞ 0\n",
    "\n",
    "'''\n",
    "\n",
    "import math\n",
    "pi = math.pi\n",
    "\n",
    "def cone_volume(r, h):\n",
    "    return round((1 / 3) * pi * r * r * h)\n",
    "\n",
    "radius = float(5)\n",
    "height = float(12)\n",
    "\n",
    "print( \"Volume Of Cone : \", cone_volume(radius, height) )"
   ]
  },
  {
   "cell_type": "code",
   "execution_count": 10,
   "id": "c5c78774",
   "metadata": {},
   "outputs": [
    {
     "data": {
      "text/plain": [
       "1414"
      ]
     },
     "execution_count": 10,
     "metadata": {},
     "output_type": "execute_result"
    }
   ],
   "source": [
    "cone_volume(15, 6)"
   ]
  },
  {
   "cell_type": "code",
   "execution_count": 11,
   "id": "67b70b79",
   "metadata": {},
   "outputs": [
    {
     "data": {
      "text/plain": [
       "0"
      ]
     },
     "execution_count": 11,
     "metadata": {},
     "output_type": "execute_result"
    }
   ],
   "source": [
    "cone_volume(18, 0)"
   ]
  },
  {
   "cell_type": "code",
   "execution_count": 12,
   "id": "dd1133db",
   "metadata": {},
   "outputs": [
    {
     "name": "stdout",
     "output_type": "stream",
     "text": [
      "Enter the trinalge number :1\n",
      "The 1th triangle has 1 dots \n"
     ]
    }
   ],
   "source": [
    "'''\n",
    "Q.[4] : This Triangular Number Sequence is generated from a pattern of dots that form a triangle.\n",
    "\n",
    "        The first 5 numbers of the sequence, or dots, are:\n",
    "        \n",
    "        1, 3, 6, 10, 15\n",
    "        \n",
    "        This means that the first triangle has just one dot, the second one has three dots, the third one \n",
    "        \n",
    "        has 6 dots and so on.\n",
    "        \n",
    "        Write a function that gives the number of dots with its corresponding triangle number of the\n",
    "        \n",
    "        sequence.\n",
    "        \n",
    "        Examples\n",
    "        \n",
    "        triangle(1) ➞ 1\n",
    "        \n",
    "        triangle(6) ➞ 21\n",
    "        \n",
    "        triangle(215) ➞ 23220\n",
    "\n",
    "'''\n",
    "\n",
    "def triangle(n):\n",
    "    return n*(n+1)*0.5\n",
    "\n",
    "n = int(input('Enter the trinalge number :'))\n",
    "print(\"The {}th triangle has {} dots \".format(n,int(triangle(n))))"
   ]
  },
  {
   "cell_type": "code",
   "execution_count": 14,
   "id": "dc324af7",
   "metadata": {},
   "outputs": [
    {
     "data": {
      "text/plain": [
       "21.0"
      ]
     },
     "execution_count": 14,
     "metadata": {},
     "output_type": "execute_result"
    }
   ],
   "source": [
    "triangle(6)"
   ]
  },
  {
   "cell_type": "code",
   "execution_count": 15,
   "id": "eb9ecadf",
   "metadata": {},
   "outputs": [
    {
     "data": {
      "text/plain": [
       "23220.0"
      ]
     },
     "execution_count": 15,
     "metadata": {},
     "output_type": "execute_result"
    }
   ],
   "source": [
    "triangle(215)"
   ]
  },
  {
   "cell_type": "code",
   "execution_count": 16,
   "id": "aff2cb80",
   "metadata": {},
   "outputs": [
    {
     "name": "stdout",
     "output_type": "stream",
     "text": [
      "5\n"
     ]
    }
   ],
   "source": [
    "'''\n",
    "Q.[5] : Create a function that takes a list of numbers between 1 and 10 (excluding one number) and returns the\n",
    "\n",
    "        missing number.\n",
    "        \n",
    "        Examples\n",
    "        \n",
    "        missing_num([1, 2, 3, 4, 6, 7, 8, 9, 10]) ➞ 5\n",
    "        \n",
    "        missing_num([7, 2, 3, 6, 5, 9, 1, 4, 8]) ➞ 10\n",
    "        \n",
    "        missing_num([10, 5, 1, 2, 4, 6, 8, 3, 9]) ➞ 7\n",
    " \n",
    "'''\n",
    "\n",
    "def missing_num(lst):\n",
    "    total = sum([x for x in range(11)])\n",
    "    sum_Of_list = sum(lst)\n",
    "    return total - sum_Of_list\n",
    "\n",
    "print(missing_num([1, 2, 3, 4, 6, 7, 8, 9, 10]))\n",
    "    "
   ]
  },
  {
   "cell_type": "code",
   "execution_count": 17,
   "id": "fc1cc2fc",
   "metadata": {},
   "outputs": [
    {
     "data": {
      "text/plain": [
       "10"
      ]
     },
     "execution_count": 17,
     "metadata": {},
     "output_type": "execute_result"
    }
   ],
   "source": [
    "missing_num([7, 2, 3, 6, 5, 9, 1, 4, 8])"
   ]
  },
  {
   "cell_type": "code",
   "execution_count": 18,
   "id": "05927855",
   "metadata": {},
   "outputs": [
    {
     "data": {
      "text/plain": [
       "7"
      ]
     },
     "execution_count": 18,
     "metadata": {},
     "output_type": "execute_result"
    }
   ],
   "source": [
    " missing_num([10, 5, 1, 2, 4, 6, 8, 3, 9])"
   ]
  },
  {
   "cell_type": "code",
   "execution_count": null,
   "id": "b13c9015",
   "metadata": {},
   "outputs": [],
   "source": []
  }
 ],
 "metadata": {
  "kernelspec": {
   "display_name": "Python 3 (ipykernel)",
   "language": "python",
   "name": "python3"
  },
  "language_info": {
   "codemirror_mode": {
    "name": "ipython",
    "version": 3
   },
   "file_extension": ".py",
   "mimetype": "text/x-python",
   "name": "python",
   "nbconvert_exporter": "python",
   "pygments_lexer": "ipython3",
   "version": "3.9.13"
  }
 },
 "nbformat": 4,
 "nbformat_minor": 5
}
